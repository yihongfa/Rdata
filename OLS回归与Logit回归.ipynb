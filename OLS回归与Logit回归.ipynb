{
 "cells": [
  {
   "cell_type": "markdown",
   "id": "3126e1f6",
   "metadata": {},
   "source": [
    "## 1 OLS回归"
   ]
  },
  {
   "cell_type": "markdown",
   "id": "72d1da51",
   "metadata": {},
   "source": [
    "### 1.1 导入数据"
   ]
  },
  {
   "cell_type": "code",
   "execution_count": 8,
   "id": "08066d81",
   "metadata": {},
   "outputs": [],
   "source": [
    "library(MatchIt)\n",
    "\n",
    "data(\"lalonde\")"
   ]
  },
  {
   "cell_type": "markdown",
   "id": "605e71d8",
   "metadata": {},
   "source": [
    "### 1.2 变量描述"
   ]
  },
  {
   "cell_type": "code",
   "execution_count": 5,
   "id": "d2264dc6",
   "metadata": {},
   "outputs": [
    {
     "data": {
      "text/html": [
       "<table class=\"dataframe\">\n",
       "<caption>A data.frame: 6 × 9</caption>\n",
       "<thead>\n",
       "\t<tr><th></th><th scope=col>treat</th><th scope=col>age</th><th scope=col>educ</th><th scope=col>race</th><th scope=col>married</th><th scope=col>nodegree</th><th scope=col>re74</th><th scope=col>re75</th><th scope=col>re78</th></tr>\n",
       "\t<tr><th></th><th scope=col>&lt;int&gt;</th><th scope=col>&lt;int&gt;</th><th scope=col>&lt;int&gt;</th><th scope=col>&lt;fct&gt;</th><th scope=col>&lt;int&gt;</th><th scope=col>&lt;int&gt;</th><th scope=col>&lt;dbl&gt;</th><th scope=col>&lt;dbl&gt;</th><th scope=col>&lt;dbl&gt;</th></tr>\n",
       "</thead>\n",
       "<tbody>\n",
       "\t<tr><th scope=row>NSW1</th><td>1</td><td>37</td><td>11</td><td>black </td><td>1</td><td>1</td><td>0</td><td>0</td><td> 9930.0460</td></tr>\n",
       "\t<tr><th scope=row>NSW2</th><td>1</td><td>22</td><td> 9</td><td>hispan</td><td>0</td><td>1</td><td>0</td><td>0</td><td> 3595.8940</td></tr>\n",
       "\t<tr><th scope=row>NSW3</th><td>1</td><td>30</td><td>12</td><td>black </td><td>0</td><td>0</td><td>0</td><td>0</td><td>24909.4500</td></tr>\n",
       "\t<tr><th scope=row>NSW4</th><td>1</td><td>27</td><td>11</td><td>black </td><td>0</td><td>1</td><td>0</td><td>0</td><td> 7506.1460</td></tr>\n",
       "\t<tr><th scope=row>NSW5</th><td>1</td><td>33</td><td> 8</td><td>black </td><td>0</td><td>1</td><td>0</td><td>0</td><td>  289.7899</td></tr>\n",
       "\t<tr><th scope=row>NSW6</th><td>1</td><td>22</td><td> 9</td><td>black </td><td>0</td><td>1</td><td>0</td><td>0</td><td> 4056.4940</td></tr>\n",
       "</tbody>\n",
       "</table>\n"
      ],
      "text/latex": [
       "A data.frame: 6 × 9\n",
       "\\begin{tabular}{r|lllllllll}\n",
       "  & treat & age & educ & race & married & nodegree & re74 & re75 & re78\\\\\n",
       "  & <int> & <int> & <int> & <fct> & <int> & <int> & <dbl> & <dbl> & <dbl>\\\\\n",
       "\\hline\n",
       "\tNSW1 & 1 & 37 & 11 & black  & 1 & 1 & 0 & 0 &  9930.0460\\\\\n",
       "\tNSW2 & 1 & 22 &  9 & hispan & 0 & 1 & 0 & 0 &  3595.8940\\\\\n",
       "\tNSW3 & 1 & 30 & 12 & black  & 0 & 0 & 0 & 0 & 24909.4500\\\\\n",
       "\tNSW4 & 1 & 27 & 11 & black  & 0 & 1 & 0 & 0 &  7506.1460\\\\\n",
       "\tNSW5 & 1 & 33 &  8 & black  & 0 & 1 & 0 & 0 &   289.7899\\\\\n",
       "\tNSW6 & 1 & 22 &  9 & black  & 0 & 1 & 0 & 0 &  4056.4940\\\\\n",
       "\\end{tabular}\n"
      ],
      "text/markdown": [
       "\n",
       "A data.frame: 6 × 9\n",
       "\n",
       "| <!--/--> | treat &lt;int&gt; | age &lt;int&gt; | educ &lt;int&gt; | race &lt;fct&gt; | married &lt;int&gt; | nodegree &lt;int&gt; | re74 &lt;dbl&gt; | re75 &lt;dbl&gt; | re78 &lt;dbl&gt; |\n",
       "|---|---|---|---|---|---|---|---|---|---|\n",
       "| NSW1 | 1 | 37 | 11 | black  | 1 | 1 | 0 | 0 |  9930.0460 |\n",
       "| NSW2 | 1 | 22 |  9 | hispan | 0 | 1 | 0 | 0 |  3595.8940 |\n",
       "| NSW3 | 1 | 30 | 12 | black  | 0 | 0 | 0 | 0 | 24909.4500 |\n",
       "| NSW4 | 1 | 27 | 11 | black  | 0 | 1 | 0 | 0 |  7506.1460 |\n",
       "| NSW5 | 1 | 33 |  8 | black  | 0 | 1 | 0 | 0 |   289.7899 |\n",
       "| NSW6 | 1 | 22 |  9 | black  | 0 | 1 | 0 | 0 |  4056.4940 |\n",
       "\n"
      ],
      "text/plain": [
       "     treat age educ race   married nodegree re74 re75 re78      \n",
       "NSW1 1     37  11   black  1       1        0    0     9930.0460\n",
       "NSW2 1     22   9   hispan 0       1        0    0     3595.8940\n",
       "NSW3 1     30  12   black  0       0        0    0    24909.4500\n",
       "NSW4 1     27  11   black  0       1        0    0     7506.1460\n",
       "NSW5 1     33   8   black  0       1        0    0      289.7899\n",
       "NSW6 1     22   9   black  0       1        0    0     4056.4940"
      ]
     },
     "metadata": {},
     "output_type": "display_data"
    }
   ],
   "source": [
    "head(lalonde)"
   ]
  },
  {
   "cell_type": "markdown",
   "id": "a232da95",
   "metadata": {},
   "source": [
    "<li> 1. age：年龄，以岁为单位。\n",
    "<li> 2. educ：学习时间，之前一共上过多少年学。\n",
    "<li> 3. black：是否为黑人。\n",
    "<li> 4. hispan：是否为西班牙裔。\n",
    "<li> 5. married：是否已婚。\n",
    "<li> 6. nodegree：是否没有毕业文凭。\n",
    "<li> 7. re74：1974年的收入。\n",
    "<li> 8. re75：1975年的收入。\n",
    "<li> 9. re78：1978年的收入。\n",
    "<li> 10. treat：1978年前是否接受职业培训"
   ]
  },
  {
   "cell_type": "code",
   "execution_count": 6,
   "id": "c2baed38",
   "metadata": {},
   "outputs": [
    {
     "data": {
      "text/plain": [
       "     treat             age             educ           race        married      \n",
       " Min.   :0.0000   Min.   :16.00   Min.   : 0.00   black :243   Min.   :0.0000  \n",
       " 1st Qu.:0.0000   1st Qu.:20.00   1st Qu.: 9.00   hispan: 72   1st Qu.:0.0000  \n",
       " Median :0.0000   Median :25.00   Median :11.00   white :299   Median :0.0000  \n",
       " Mean   :0.3013   Mean   :27.36   Mean   :10.27                Mean   :0.4153  \n",
       " 3rd Qu.:1.0000   3rd Qu.:32.00   3rd Qu.:12.00                3rd Qu.:1.0000  \n",
       " Max.   :1.0000   Max.   :55.00   Max.   :18.00                Max.   :1.0000  \n",
       "    nodegree           re74            re75              re78        \n",
       " Min.   :0.0000   Min.   :    0   Min.   :    0.0   Min.   :    0.0  \n",
       " 1st Qu.:0.0000   1st Qu.:    0   1st Qu.:    0.0   1st Qu.:  238.3  \n",
       " Median :1.0000   Median : 1042   Median :  601.5   Median : 4759.0  \n",
       " Mean   :0.6303   Mean   : 4558   Mean   : 2184.9   Mean   : 6792.8  \n",
       " 3rd Qu.:1.0000   3rd Qu.: 7888   3rd Qu.: 3249.0   3rd Qu.:10893.6  \n",
       " Max.   :1.0000   Max.   :35040   Max.   :25142.2   Max.   :60307.9  "
      ]
     },
     "metadata": {},
     "output_type": "display_data"
    }
   ],
   "source": [
    "summary(lalonde)"
   ]
  },
  {
   "cell_type": "markdown",
   "id": "f6dd637b",
   "metadata": {},
   "source": [
    "### 1.3 建立模型（R基础包）"
   ]
  },
  {
   "cell_type": "code",
   "execution_count": 10,
   "id": "5c8aa5b5",
   "metadata": {},
   "outputs": [
    {
     "data": {
      "text/plain": [
       "\n",
       "Call:\n",
       "lm(formula = re78 ~ age + educ + race + married + nodegree + \n",
       "    re74 + re75, data = lalonde)\n",
       "\n",
       "Residuals:\n",
       "   Min     1Q Median     3Q    Max \n",
       "-13302  -4923  -1761   3963  54993 \n",
       "\n",
       "Coefficients:\n",
       "              Estimate Std. Error t value Pr(>|t|)    \n",
       "(Intercept) -649.35938 2447.89789  -0.265   0.7909    \n",
       "age           16.37029   32.52216   0.503   0.6149    \n",
       "educ         435.34691  158.49601   2.747   0.0062 ** \n",
       "racehispan  1054.20416  960.32295   1.098   0.2727    \n",
       "racewhite    421.77329  649.83101   0.649   0.5166    \n",
       "married      262.63860  693.33780   0.379   0.7050    \n",
       "nodegree     412.05021  845.99211   0.487   0.6264    \n",
       "re74           0.28687    0.05822   4.928 1.07e-06 ***\n",
       "re75           0.23733    0.10483   2.264   0.0239 *  \n",
       "---\n",
       "Signif. codes:  0 '***' 0.001 '**' 0.01 '*' 0.05 '.' 0.1 ' ' 1\n",
       "\n",
       "Residual standard error: 6965 on 605 degrees of freedom\n",
       "Multiple R-squared:  0.1422,\tAdjusted R-squared:  0.1309 \n",
       "F-statistic: 12.54 on 8 and 605 DF,  p-value: < 2.2e-16\n"
      ]
     },
     "metadata": {},
     "output_type": "display_data"
    }
   ],
   "source": [
    "model1 <- lm(re78 ~ age + educ + race + married + nodegree + re74 + re75,\n",
    "             data = lalonde)\n",
    "summary(model1)"
   ]
  },
  {
   "cell_type": "markdown",
   "id": "6eeb00c0",
   "metadata": {},
   "source": [
    "### 1.4 美化输出"
   ]
  },
  {
   "cell_type": "code",
   "execution_count": 11,
   "id": "325305d5",
   "metadata": {},
   "outputs": [
    {
     "name": "stderr",
     "output_type": "stream",
     "text": [
      "\n",
      "Please cite as: \n",
      "\n",
      "\n",
      " Hlavac, Marek (2022). stargazer: Well-Formatted Regression and Summary Statistics Tables.\n",
      "\n",
      " R package version 5.2.3. https://CRAN.R-project.org/package=stargazer \n",
      "\n",
      "\n"
     ]
    },
    {
     "name": "stdout",
     "output_type": "stream",
     "text": [
      "\n",
      "===============================================\n",
      "                        Dependent variable:    \n",
      "                    ---------------------------\n",
      "                               re78            \n",
      "-----------------------------------------------\n",
      "age                           16.370           \n",
      "                             (32.522)          \n",
      "                                               \n",
      "educ                        435.347***         \n",
      "                             (158.496)         \n",
      "                                               \n",
      "racehispan                   1,054.204         \n",
      "                             (960.323)         \n",
      "                                               \n",
      "racewhite                     421.773          \n",
      "                             (649.831)         \n",
      "                                               \n",
      "married                       262.639          \n",
      "                             (693.338)         \n",
      "                                               \n",
      "nodegree                      412.050          \n",
      "                             (845.992)         \n",
      "                                               \n",
      "re74                         0.287***          \n",
      "                              (0.058)          \n",
      "                                               \n",
      "re75                          0.237**          \n",
      "                              (0.105)          \n",
      "                                               \n",
      "Constant                     -649.359          \n",
      "                            (2,447.898)        \n",
      "                                               \n",
      "-----------------------------------------------\n",
      "Observations                    614            \n",
      "R2                             0.142           \n",
      "Adjusted R2                    0.131           \n",
      "Residual Std. Error    6,964.704 (df = 605)    \n",
      "F Statistic           12.539*** (df = 8; 605)  \n",
      "===============================================\n",
      "Note:               *p<0.1; **p<0.05; ***p<0.01\n"
     ]
    }
   ],
   "source": [
    "library(stargazer)\n",
    "\n",
    "stargazer(model1, type='text')"
   ]
  },
  {
   "cell_type": "markdown",
   "id": "b829da6c",
   "metadata": {},
   "source": [
    "### 1.5 建立模型（rms包）"
   ]
  },
  {
   "cell_type": "code",
   "execution_count": 12,
   "id": "59c9e4c7",
   "metadata": {},
   "outputs": [
    {
     "name": "stderr",
     "output_type": "stream",
     "text": [
      "Loading required package: Hmisc\n",
      "\n",
      "\n",
      "Attaching package: 'Hmisc'\n",
      "\n",
      "\n",
      "The following objects are masked from 'package:base':\n",
      "\n",
      "    format.pval, units\n",
      "\n",
      "\n"
     ]
    },
    {
     "data": {
      "text/plain": [
       "Linear Regression Model\n",
       "\n",
       "ols(formula = re78 ~ age + educ + race + married + nodegree + \n",
       "    re74 + re75, data = lalonde)\n",
       "\n",
       "                   Model Likelihood    Discrimination    \n",
       "                         Ratio Test           Indexes    \n",
       "Obs        614    LR chi2     94.19    R2       0.142    \n",
       "sigma6964.7036    d.f.            8    R2 adj   0.131    \n",
       "d.f.       605    Pr(> chi2) 0.0000    g     3007.265    \n",
       "\n",
       "Residuals\n",
       "\n",
       "   Min     1Q Median     3Q    Max \n",
       "-13302  -4923  -1761   3963  54993 \n",
       "\n",
       "\n",
       "            Coef      S.E.      t     Pr(>|t|)\n",
       "Intercept   -649.3594 2447.8979 -0.27 0.7909  \n",
       "age           16.3703   32.5222  0.50 0.6149  \n",
       "educ         435.3469  158.4960  2.75 0.0062  \n",
       "race=hispan 1054.2042  960.3229  1.10 0.2727  \n",
       "race=white   421.7733  649.8310  0.65 0.5166  \n",
       "married      262.6386  693.3378  0.38 0.7050  \n",
       "nodegree     412.0502  845.9921  0.49 0.6264  \n",
       "re74           0.2869    0.0582  4.93 <0.0001 \n",
       "re75           0.2373    0.1048  2.26 0.0239  \n"
      ]
     },
     "metadata": {},
     "output_type": "display_data"
    }
   ],
   "source": [
    "library(rms)\n",
    "model2 <- ols(re78 ~ age + educ + race + married + nodegree + re74 + re75,\n",
    "              data = lalonde)\n",
    "model2"
   ]
  },
  {
   "cell_type": "code",
   "execution_count": 15,
   "id": "706539fa",
   "metadata": {},
   "outputs": [
    {
     "name": "stdout",
     "output_type": "stream",
     "text": [
      "\n",
      "========================================\n",
      "                 Dependent variable:    \n",
      "             ---------------------------\n",
      "                        re78            \n",
      "----------------------------------------\n",
      "age                    16.370           \n",
      "                      (32.522)          \n",
      "                                        \n",
      "educ                 435.347***         \n",
      "                      (158.496)         \n",
      "                                        \n",
      "race=hispan           1,054.204         \n",
      "                      (960.323)         \n",
      "                                        \n",
      "race=white             421.773          \n",
      "                      (649.831)         \n",
      "                                        \n",
      "married                262.639          \n",
      "                      (693.338)         \n",
      "                                        \n",
      "nodegree               412.050          \n",
      "                      (845.992)         \n",
      "                                        \n",
      "re74                  0.287***          \n",
      "                       (0.058)          \n",
      "                                        \n",
      "re75                   0.237**          \n",
      "                       (0.105)          \n",
      "                                        \n",
      "Constant              -649.359          \n",
      "                     (2,447.898)        \n",
      "                                        \n",
      "----------------------------------------\n",
      "Observations             614            \n",
      "R2                      0.142           \n",
      "Adjusted R2             0.131           \n",
      "chi2             94.195*** (df = 8)     \n",
      "========================================\n",
      "Note:        *p<0.1; **p<0.05; ***p<0.01\n"
     ]
    }
   ],
   "source": [
    "library(stargazer)\n",
    "\n",
    "stargazer(model2, type='text')"
   ]
  },
  {
   "cell_type": "markdown",
   "id": "4823df71",
   "metadata": {},
   "source": [
    "## 2 Logit模型"
   ]
  },
  {
   "cell_type": "markdown",
   "id": "6ef7bc58",
   "metadata": {},
   "source": [
    "### 2.1 数据准备"
   ]
  },
  {
   "cell_type": "code",
   "execution_count": 18,
   "id": "778bc89a",
   "metadata": {},
   "outputs": [],
   "source": [
    "library(rms)\n",
    "ddist <- datadist(lalonde)\n",
    "options(datadist='ddist')"
   ]
  },
  {
   "cell_type": "markdown",
   "id": "b25503a7",
   "metadata": {},
   "source": [
    "### 2.2 建立模型"
   ]
  },
  {
   "cell_type": "code",
   "execution_count": 19,
   "id": "548e5427",
   "metadata": {},
   "outputs": [
    {
     "data": {
      "text/plain": [
       "Logistic Regression Model\n",
       "\n",
       "lrm(formula = treat ~ age + educ + race + married + nodegree, \n",
       "    data = lalonde)\n",
       "\n",
       "                       Model Likelihood      Discrimination    Rank Discrim.    \n",
       "                             Ratio Test             Indexes          Indexes    \n",
       "Obs           614    LR chi2     256.79      R2       0.484    C       0.867    \n",
       " 0            429    d.f.             6      R2(6,614)0.335    Dxy     0.735    \n",
       " 1            185    Pr(> chi2) <0.0001    R2(6,387.8)0.476    gamma   0.736    \n",
       "max |deriv| 1e-05                            Brier    0.129    tau-a   0.310    \n",
       "\n",
       "            Coef    S.E.   Wald Z Pr(>|Z|)\n",
       "Intercept   -1.5522 0.9754  -1.59 0.1115  \n",
       "age          0.0103 0.0133   0.77 0.4386  \n",
       "educ         0.1516 0.0657   2.31 0.0210  \n",
       "race=hispan -2.1271 0.3636  -5.85 <0.0001 \n",
       "race=white  -3.1266 0.2851 -10.96 <0.0001 \n",
       "married     -0.9297 0.2713  -3.43 0.0006  \n",
       "nodegree     0.7872 0.3351   2.35 0.0188  \n"
      ]
     },
     "metadata": {},
     "output_type": "display_data"
    }
   ],
   "source": [
    "model3 <- lrm(treat ~ age + educ + race +married + nodegree, data = lalonde)\n",
    "model3"
   ]
  },
  {
   "cell_type": "code",
   "execution_count": 25,
   "id": "8c83bbac",
   "metadata": {},
   "outputs": [
    {
     "name": "stdout",
     "output_type": "stream",
     "text": [
      "\n",
      "========================================\n",
      "                 Dependent variable:    \n",
      "             ---------------------------\n",
      "                        treat           \n",
      "----------------------------------------\n",
      "age                     0.010           \n",
      "                       (0.013)          \n",
      "                                        \n",
      "educ                   0.152**          \n",
      "                       (0.066)          \n",
      "                                        \n",
      "race=hispan           -2.127***         \n",
      "                       (0.364)          \n",
      "                                        \n",
      "race=white            -3.127***         \n",
      "                       (0.285)          \n",
      "                                        \n",
      "married               -0.930***         \n",
      "                       (0.271)          \n",
      "                                        \n",
      "nodegree               0.787**          \n",
      "                       (0.335)          \n",
      "                                        \n",
      "Constant               -1.552           \n",
      "                       (0.975)          \n",
      "                                        \n",
      "----------------------------------------\n",
      "Observations             614            \n",
      "R2                      0.484           \n",
      "chi2             256.794*** (df = 6)    \n",
      "========================================\n",
      "Note:        *p<0.1; **p<0.05; ***p<0.01\n"
     ]
    }
   ],
   "source": [
    "stargazer(model3, type='text')"
   ]
  },
  {
   "cell_type": "markdown",
   "id": "91829caf",
   "metadata": {},
   "source": [
    "### 2.3 Odds Ratio"
   ]
  },
  {
   "cell_type": "code",
   "execution_count": 21,
   "id": "455b6713",
   "metadata": {},
   "outputs": [
    {
     "data": {
      "text/html": [
       "<table class=\"dataframe\">\n",
       "<caption>A summary.rms: 12 × 8 of type dbl</caption>\n",
       "<thead>\n",
       "\t<tr><th></th><th scope=col>Low</th><th scope=col>High</th><th scope=col>Diff.</th><th scope=col>Effect</th><th scope=col>S.E.</th><th scope=col>Lower 0.95</th><th scope=col>Upper 0.95</th><th scope=col>Type</th></tr>\n",
       "</thead>\n",
       "<tbody>\n",
       "\t<tr><th scope=row>age</th><td>20</td><td>32</td><td>12</td><td> 0.1235675</td><td>0.1595219</td><td>-0.18908963</td><td> 0.4362246</td><td>1</td></tr>\n",
       "\t<tr><th scope=row> Odds Ratio</th><td>20</td><td>32</td><td>12</td><td> 1.1315264</td><td>       NA</td><td> 0.82771231</td><td> 1.5468562</td><td>2</td></tr>\n",
       "\t<tr><th scope=row>educ</th><td> 9</td><td>12</td><td> 3</td><td> 0.4548374</td><td>0.1970485</td><td> 0.06862938</td><td> 0.8410455</td><td>1</td></tr>\n",
       "\t<tr><th scope=row> Odds Ratio</th><td> 9</td><td>12</td><td> 3</td><td> 1.5759172</td><td>       NA</td><td> 1.07103919</td><td> 2.3187899</td><td>2</td></tr>\n",
       "\t<tr><th scope=row>married</th><td> 0</td><td> 1</td><td> 1</td><td>-0.9296930</td><td>0.2712847</td><td>-1.46140130</td><td>-0.3979848</td><td>1</td></tr>\n",
       "\t<tr><th scope=row> Odds Ratio</th><td> 0</td><td> 1</td><td> 1</td><td> 0.3946748</td><td>       NA</td><td> 0.23191107</td><td> 0.6716723</td><td>2</td></tr>\n",
       "\t<tr><th scope=row>nodegree</th><td> 0</td><td> 1</td><td> 1</td><td> 0.7871918</td><td>0.3350740</td><td> 0.13045890</td><td> 1.4439247</td><td>1</td></tr>\n",
       "\t<tr><th scope=row> Odds Ratio</th><td> 0</td><td> 1</td><td> 1</td><td> 2.1972176</td><td>       NA</td><td> 1.13935111</td><td> 4.2372935</td><td>2</td></tr>\n",
       "\t<tr><th scope=row>race - black:white</th><td> 3</td><td> 1</td><td>NA</td><td> 3.1265656</td><td>0.2851440</td><td> 2.56769355</td><td> 3.6854376</td><td>1</td></tr>\n",
       "\t<tr><th scope=row> Odds Ratio</th><td> 3</td><td> 1</td><td>NA</td><td>22.7955552</td><td>       NA</td><td>13.03572353</td><td>39.8625620</td><td>2</td></tr>\n",
       "\t<tr><th scope=row>race - hispan:white</th><td> 3</td><td> 2</td><td>NA</td><td> 0.9994731</td><td>0.4219104</td><td> 0.17254395</td><td> 1.8264023</td><td>1</td></tr>\n",
       "\t<tr><th scope=row> Odds Ratio</th><td> 3</td><td> 2</td><td>NA</td><td> 2.7168501</td><td>       NA</td><td> 1.18832405</td><td> 6.2114995</td><td>2</td></tr>\n",
       "</tbody>\n",
       "</table>\n"
      ],
      "text/latex": [
       "A summary.rms: 12 × 8 of type dbl\n",
       "\\begin{tabular}{r|llllllll}\n",
       "  & Low & High & Diff. & Effect & S.E. & Lower 0.95 & Upper 0.95 & Type\\\\\n",
       "\\hline\n",
       "\tage & 20 & 32 & 12 &  0.1235675 & 0.1595219 & -0.18908963 &  0.4362246 & 1\\\\\n",
       "\t Odds Ratio & 20 & 32 & 12 &  1.1315264 &        NA &  0.82771231 &  1.5468562 & 2\\\\\n",
       "\teduc &  9 & 12 &  3 &  0.4548374 & 0.1970485 &  0.06862938 &  0.8410455 & 1\\\\\n",
       "\t Odds Ratio &  9 & 12 &  3 &  1.5759172 &        NA &  1.07103919 &  2.3187899 & 2\\\\\n",
       "\tmarried &  0 &  1 &  1 & -0.9296930 & 0.2712847 & -1.46140130 & -0.3979848 & 1\\\\\n",
       "\t Odds Ratio &  0 &  1 &  1 &  0.3946748 &        NA &  0.23191107 &  0.6716723 & 2\\\\\n",
       "\tnodegree &  0 &  1 &  1 &  0.7871918 & 0.3350740 &  0.13045890 &  1.4439247 & 1\\\\\n",
       "\t Odds Ratio &  0 &  1 &  1 &  2.1972176 &        NA &  1.13935111 &  4.2372935 & 2\\\\\n",
       "\trace - black:white &  3 &  1 & NA &  3.1265656 & 0.2851440 &  2.56769355 &  3.6854376 & 1\\\\\n",
       "\t Odds Ratio &  3 &  1 & NA & 22.7955552 &        NA & 13.03572353 & 39.8625620 & 2\\\\\n",
       "\trace - hispan:white &  3 &  2 & NA &  0.9994731 & 0.4219104 &  0.17254395 &  1.8264023 & 1\\\\\n",
       "\t Odds Ratio &  3 &  2 & NA &  2.7168501 &        NA &  1.18832405 &  6.2114995 & 2\\\\\n",
       "\\end{tabular}\n"
      ],
      "text/markdown": [
       "\n",
       "A summary.rms: 12 × 8 of type dbl\n",
       "\n",
       "| <!--/--> | Low | High | Diff. | Effect | S.E. | Lower 0.95 | Upper 0.95 | Type |\n",
       "|---|---|---|---|---|---|---|---|---|\n",
       "| age | 20 | 32 | 12 |  0.1235675 | 0.1595219 | -0.18908963 |  0.4362246 | 1 |\n",
       "|  Odds Ratio | 20 | 32 | 12 |  1.1315264 |        NA |  0.82771231 |  1.5468562 | 2 |\n",
       "| educ |  9 | 12 |  3 |  0.4548374 | 0.1970485 |  0.06862938 |  0.8410455 | 1 |\n",
       "|  Odds Ratio |  9 | 12 |  3 |  1.5759172 |        NA |  1.07103919 |  2.3187899 | 2 |\n",
       "| married |  0 |  1 |  1 | -0.9296930 | 0.2712847 | -1.46140130 | -0.3979848 | 1 |\n",
       "|  Odds Ratio |  0 |  1 |  1 |  0.3946748 |        NA |  0.23191107 |  0.6716723 | 2 |\n",
       "| nodegree |  0 |  1 |  1 |  0.7871918 | 0.3350740 |  0.13045890 |  1.4439247 | 1 |\n",
       "|  Odds Ratio |  0 |  1 |  1 |  2.1972176 |        NA |  1.13935111 |  4.2372935 | 2 |\n",
       "| race - black:white |  3 |  1 | NA |  3.1265656 | 0.2851440 |  2.56769355 |  3.6854376 | 1 |\n",
       "|  Odds Ratio |  3 |  1 | NA | 22.7955552 |        NA | 13.03572353 | 39.8625620 | 2 |\n",
       "| race - hispan:white |  3 |  2 | NA |  0.9994731 | 0.4219104 |  0.17254395 |  1.8264023 | 1 |\n",
       "|  Odds Ratio |  3 |  2 | NA |  2.7168501 |        NA |  1.18832405 |  6.2114995 | 2 |\n",
       "\n"
      ],
      "text/plain": [
       "                    Low High Diff. Effect     S.E.      Lower 0.95  Upper 0.95\n",
       "age                 20  32   12     0.1235675 0.1595219 -0.18908963  0.4362246\n",
       " Odds Ratio         20  32   12     1.1315264        NA  0.82771231  1.5468562\n",
       "educ                 9  12    3     0.4548374 0.1970485  0.06862938  0.8410455\n",
       " Odds Ratio          9  12    3     1.5759172        NA  1.07103919  2.3187899\n",
       "married              0   1    1    -0.9296930 0.2712847 -1.46140130 -0.3979848\n",
       " Odds Ratio          0   1    1     0.3946748        NA  0.23191107  0.6716723\n",
       "nodegree             0   1    1     0.7871918 0.3350740  0.13045890  1.4439247\n",
       " Odds Ratio          0   1    1     2.1972176        NA  1.13935111  4.2372935\n",
       "race - black:white   3   1   NA     3.1265656 0.2851440  2.56769355  3.6854376\n",
       " Odds Ratio          3   1   NA    22.7955552        NA 13.03572353 39.8625620\n",
       "race - hispan:white  3   2   NA     0.9994731 0.4219104  0.17254395  1.8264023\n",
       " Odds Ratio          3   2   NA     2.7168501        NA  1.18832405  6.2114995\n",
       "                    Type\n",
       "age                 1   \n",
       " Odds Ratio         2   \n",
       "educ                1   \n",
       " Odds Ratio         2   \n",
       "married             1   \n",
       " Odds Ratio         2   \n",
       "nodegree            1   \n",
       " Odds Ratio         2   \n",
       "race - black:white  1   \n",
       " Odds Ratio         2   \n",
       "race - hispan:white 1   \n",
       " Odds Ratio         2   "
      ]
     },
     "metadata": {},
     "output_type": "display_data"
    }
   ],
   "source": [
    "summary(model3)"
   ]
  },
  {
   "cell_type": "code",
   "execution_count": null,
   "id": "24b2fb12",
   "metadata": {},
   "outputs": [],
   "source": []
  }
 ],
 "metadata": {
  "kernelspec": {
   "display_name": "R",
   "language": "R",
   "name": "ir"
  },
  "language_info": {
   "codemirror_mode": "r",
   "file_extension": ".r",
   "mimetype": "text/x-r-source",
   "name": "R",
   "pygments_lexer": "r",
   "version": "4.3.3"
  }
 },
 "nbformat": 4,
 "nbformat_minor": 5
}
